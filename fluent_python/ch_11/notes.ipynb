{
 "cells": [
  {
   "cell_type": "markdown",
   "id": "16c09f3e",
   "metadata": {},
   "source": [
    "### Object Representations:\n",
    "\n",
    "Standard way to get a string representation from any objectL:\n",
    "    \n",
    "`repr`: return a string repping object as developer wants to see it (what we get in console or debugger)\n",
    "- `__repr__`\n",
    "\n",
    "`str`: return a string repping object as user wants to see it. This is the return when we `print()` an object\n",
    "- `__str__`\n",
    "\n",
    "Alternative reps:\n",
    "\n",
    "- `__bytes__`: called by `bytes()` to get byte sequence\n",
    "\n",
    "- `__format__`: used by `f-strings`, getting string displays using special formatting codes"
   ]
  },
  {
   "cell_type": "code",
   "execution_count": 1,
   "id": "e18d7961",
   "metadata": {},
   "outputs": [],
   "source": [
    "# source: https://github.com/fluentpython/example-code-2e/blob/master/11-pythonic-obj/vector2d_v0.py\n",
    "from array import array\n",
    "import math\n",
    "\n",
    "\n",
    "class Vector2d:\n",
    "    typecode = 'd'  # used in __bytes__\n",
    "\n",
    "    def __init__(self, x, y):\n",
    "        self.x = float(x)    # \n",
    "        self.y = float(y)\n",
    "\n",
    "    def __iter__(self):\n",
    "        \"\"\"Using a generator expression for unpacking\"\"\"\n",
    "        return (i for i in (self.x, self.y))  # makes it iterable\n",
    "\n",
    "    def __repr__(self):\n",
    "        \"\"\"*self is an iterable due to above, so feeds x & y\"\"\"\n",
    "        class_name = type(self).__name__\n",
    "        return '{}({!r}, {!r})'.format(class_name, *self)  # <4>\n",
    "\n",
    "    def __str__(self):\n",
    "        return str(tuple(self))  # <5>\n",
    "\n",
    "    def __bytes__(self):\n",
    "        return (bytes([ord(self.typecode)]) +  # <6>\n",
    "                bytes(array(self.typecode, self)))  # <7>\n",
    "\n",
    "    def __eq__(self, other):\n",
    "        return tuple(self) == tuple(other)  # let's us compare vals\n",
    "\n",
    "    def __abs__(self):\n",
    "        return math.hypot(self.x, self.y)  # magnitude\n",
    "\n",
    "    def __bool__(self):\n",
    "        return bool(abs(self))  # a 0 would be false, otherwise true"
   ]
  },
  {
   "cell_type": "code",
   "execution_count": 4,
   "id": "60b1fa0e",
   "metadata": {},
   "outputs": [
    {
     "name": "stdout",
     "output_type": "stream",
     "text": [
      "(3.0, 4.0)\n"
     ]
    },
    {
     "data": {
      "text/plain": [
       "Vector2d(3.0, 4.0)"
      ]
     },
     "execution_count": 4,
     "metadata": {},
     "output_type": "execute_result"
    }
   ],
   "source": [
    "# testing\n",
    "v1 = Vector2d(3,4)\n",
    "\n",
    "print(v1) # __str__ output\n",
    "\n",
    "# repr\n",
    "v1"
   ]
  },
  {
   "cell_type": "code",
   "execution_count": 15,
   "id": "dd7a7f9b",
   "metadata": {},
   "outputs": [
    {
     "name": "stdout",
     "output_type": "stream",
     "text": [
      "5\n"
     ]
    },
    {
     "data": {
      "text/plain": [
       "5"
      ]
     },
     "execution_count": 15,
     "metadata": {},
     "output_type": "execute_result"
    }
   ],
   "source": [
    "# eval just evaluates expression\n",
    "# if legal statement, it will be executed\n",
    "x = 5\n",
    "eval(\"print(x)\") # actual statement we can execute\n",
    "eval(\"x\") # same as executing x"
   ]
  },
  {
   "cell_type": "code",
   "execution_count": 17,
   "id": "3f6bf619",
   "metadata": {},
   "outputs": [
    {
     "data": {
      "text/plain": [
       "True"
      ]
     },
     "execution_count": 17,
     "metadata": {},
     "output_type": "execute_result"
    }
   ],
   "source": [
    "# proves repr is same as constructor call (not sure I follow)\n",
    "v1_clone = eval(repr(v1))\n",
    "v1_clone == v1"
   ]
  },
  {
   "cell_type": "code",
   "execution_count": 18,
   "id": "cc76a7c4",
   "metadata": {},
   "outputs": [
    {
     "data": {
      "text/plain": [
       "b'd\\x00\\x00\\x00\\x00\\x00\\x00\\x08@\\x00\\x00\\x00\\x00\\x00\\x00\\x10@'"
      ]
     },
     "execution_count": 18,
     "metadata": {},
     "output_type": "execute_result"
    }
   ],
   "source": [
    "bytes(v1) # binary representation"
   ]
  },
  {
   "cell_type": "code",
   "execution_count": 23,
   "id": "70e30e0f",
   "metadata": {},
   "outputs": [
    {
     "name": "stdout",
     "output_type": "stream",
     "text": [
      "True\n",
      "True\n"
     ]
    }
   ],
   "source": [
    "# equal is interesting. \n",
    "v1 = Vector2d(3,4)\n",
    "v2 = Vector2d(3,4)\n",
    "print(v1 == v2)\n",
    "\n",
    "# also works for a totally different object, like a list\n",
    "print(v1 == [3,4])"
   ]
  },
  {
   "cell_type": "markdown",
   "id": "2f8b3e49",
   "metadata": {},
   "source": [
    "### Classmethod vs staticmethod: \n",
    "\n",
    "`classmethod`:\n",
    "- operate on class and not on instances.\n",
    "- receives class as argument, most common use is for alternative constructions. \n",
    "    - used for ways to create an object with a different signature to `__init__`\n",
    "\n",
    "`staticmethod`:\n",
    "- knows nothing about the class or instance it was called on\n",
    "- could use the a standard function, but can be helpful to package up within a class if it is a helpful function (avoid pollution or confusion from lots of \"free functions\""
   ]
  },
  {
   "cell_type": "code",
   "execution_count": 24,
   "id": "cabcc574",
   "metadata": {},
   "outputs": [],
   "source": [
    "class A(object):\n",
    "    def foo(self, x):\n",
    "        print(f\"executing foo({self}, {x})\")\n",
    "\n",
    "    @classmethod\n",
    "    def class_foo(cls, x):\n",
    "        print(f\"executing class_foo({cls}, {x})\")\n",
    "\n",
    "    @staticmethod\n",
    "    def static_foo(x):\n",
    "        print(f\"executing static_foo({x})\")\n",
    "\n",
    "a = A()"
   ]
  },
  {
   "cell_type": "code",
   "execution_count": 26,
   "id": "77f753aa",
   "metadata": {},
   "outputs": [
    {
     "name": "stdout",
     "output_type": "stream",
     "text": [
      "executing foo(<__main__.A object at 0x1143c9f70>, 1)\n"
     ]
    }
   ],
   "source": [
    "a.foo(1) # typical way an object calls a method"
   ]
  },
  {
   "cell_type": "code",
   "execution_count": 28,
   "id": "75c24359",
   "metadata": {},
   "outputs": [
    {
     "name": "stdout",
     "output_type": "stream",
     "text": [
      "executing class_foo(<class '__main__.A'>, 1)\n",
      "executing class_foo(<class '__main__.A'>, 1)\n"
     ]
    },
    {
     "data": {
      "text/plain": [
       "True"
      ]
     },
     "execution_count": 28,
     "metadata": {},
     "output_type": "execute_result"
    }
   ],
   "source": [
    "A.class_foo(1) == a.class_foo(1)"
   ]
  },
  {
   "cell_type": "code",
   "execution_count": 30,
   "id": "6785e198",
   "metadata": {},
   "outputs": [
    {
     "name": "stdout",
     "output_type": "stream",
     "text": [
      "executing static_foo(1)\n",
      "executing static_foo(hello)\n"
     ]
    }
   ],
   "source": [
    "a.static_foo(1) # behavior like plain functions, but we call from class\n",
    "A.static_foo(\"hello\")"
   ]
  },
  {
   "cell_type": "markdown",
   "id": "f9c0f4c7",
   "metadata": {},
   "source": [
    "### classmethod: more examples\n",
    "\n",
    "Good resource: https://stackabuse.com/pythons-classmethod-and-staticmethod-explained/\n",
    "\n",
    "In the example we want to generate various formats for a class to be instantiated from"
   ]
  },
  {
   "cell_type": "code",
   "execution_count": 33,
   "id": "cd02ddc9",
   "metadata": {},
   "outputs": [
    {
     "name": "stdout",
     "output_type": "stream",
     "text": [
      "Scott Robinson\n"
     ]
    }
   ],
   "source": [
    "class Student(object):\n",
    "\n",
    "    def __init__(self, first_name, last_name):\n",
    "        self.first_name = first_name\n",
    "        self.last_name = last_name\n",
    "\n",
    "scott = Student('Scott',  'Robinson')\n",
    "print(scott.first_name, scott.last_name)"
   ]
  },
  {
   "cell_type": "code",
   "execution_count": 38,
   "id": "cea55dbb",
   "metadata": {},
   "outputs": [
    {
     "name": "stdout",
     "output_type": "stream",
     "text": [
      "Scott Robinson\n",
      "Scott Robinson\n"
     ]
    }
   ],
   "source": [
    "class Student(object):\n",
    "\n",
    "    def __init__(self, first_name, last_name):\n",
    "        self.first_name = first_name\n",
    "        self.last_name = last_name\n",
    "        \n",
    "    @classmethod\n",
    "    def from_string(cls, name_str):\n",
    "        first_name, last_name = map(str, name_str.split(' '))\n",
    "        student = cls(first_name, last_name)\n",
    "        return student\n",
    "    \n",
    "# typical approach\n",
    "scott1 = Student('Scott',  'Robinson')\n",
    "print(scott1.first_name, scott1.last_name)\n",
    "\n",
    "# parsing from a string, a different approach\n",
    "scott2 = Student.from_string('Scott Robinson')\n",
    "print(scott2.first_name, scott2.last_name)"
   ]
  },
  {
   "cell_type": "code",
   "execution_count": 43,
   "id": "36d9272a",
   "metadata": {},
   "outputs": [
    {
     "name": "stdout",
     "output_type": "stream",
     "text": [
      "[90, 80, 85, 94, 70]\n",
      "[90, 80, 85, 94, 70]\n"
     ]
    }
   ],
   "source": [
    "# Maybe a more relevant example for DS work:\n",
    "# We could create an instance with a list or we could pass in\n",
    "# a csv (comma-separate string in this example)\n",
    "class ClassGrades:\n",
    "\n",
    "    def __init__(self, grades):\n",
    "        self.grades = grades\n",
    "\n",
    "    @classmethod\n",
    "    def from_csv(cls, grade_csv_str):\n",
    "        # this is a bit clunky.\n",
    "        grades = list(map(int, grade_csv_str.split(', ')))\n",
    "\n",
    "        return cls(grades)\n",
    "# list\n",
    "class_grades_valid = ClassGrades([90,80,85,94,70])\n",
    "print(class_grades_valid.grades)\n",
    "\n",
    "# \"csv\"\n",
    "class_grades_valid = ClassGrades.from_csv('90, 80, 85, 94, 70')\n",
    "print(class_grades_valid.grades)"
   ]
  },
  {
   "cell_type": "markdown",
   "id": "b40c4f5a",
   "metadata": {},
   "source": [
    "### Formatted Displays"
   ]
  },
  {
   "cell_type": "code",
   "execution_count": null,
   "id": "797e9e78",
   "metadata": {},
   "outputs": [],
   "source": []
  }
 ],
 "metadata": {
  "kernelspec": {
   "display_name": "fluent",
   "language": "python",
   "name": "fluent"
  },
  "language_info": {
   "codemirror_mode": {
    "name": "ipython",
    "version": 3
   },
   "file_extension": ".py",
   "mimetype": "text/x-python",
   "name": "python",
   "nbconvert_exporter": "python",
   "pygments_lexer": "ipython3",
   "version": "3.9.6"
  }
 },
 "nbformat": 4,
 "nbformat_minor": 5
}
