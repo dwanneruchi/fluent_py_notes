{
 "cells": [
  {
   "cell_type": "markdown",
   "id": "17b30e60",
   "metadata": {},
   "source": [
    "### Higher Order Functions: \n",
    "\n",
    "Takes a function as an argument or returns a function as the result\n",
    "    - Sorted takes in a list (iterable?) and allows for a key argument which can be a function. \n",
    "    - Below we pass in len, to sort by length"
   ]
  },
  {
   "cell_type": "code",
   "execution_count": 2,
   "id": "983e17f3",
   "metadata": {},
   "outputs": [
    {
     "data": {
      "text/plain": [
       "['fig', 'apple', 'cherry', 'banana', 'raspberry', 'strawberry']"
      ]
     },
     "execution_count": 2,
     "metadata": {},
     "output_type": "execute_result"
    }
   ],
   "source": [
    ">>> fruits = ['strawberry', 'fig', 'apple', 'cherry', 'raspberry', 'banana']\n",
    ">>> sorted(fruits, key=len)"
   ]
  },
  {
   "cell_type": "code",
   "execution_count": 3,
   "id": "37f4b31c",
   "metadata": {},
   "outputs": [
    {
     "data": {
      "text/plain": [
       "['banana', 'apple', 'fig', 'raspberry', 'strawberry', 'cherry']"
      ]
     },
     "execution_count": 3,
     "metadata": {},
     "output_type": "execute_result"
    }
   ],
   "source": [
    ">>> def reverse(word):\n",
    "...     return word[::-1]\n",
    ">>> reverse('testing')\n",
    "'gnitset'\n",
    ">>> sorted(fruits, key=reverse)"
   ]
  },
  {
   "cell_type": "markdown",
   "id": "590ea2f4",
   "metadata": {},
   "source": [
    "### Replacements for map, filter, reduce: \n",
    "\n",
    "We can lean on various comprehesions and generator expressions. "
   ]
  },
  {
   "cell_type": "code",
   "execution_count": 6,
   "id": "2b7a8c69",
   "metadata": {},
   "outputs": [],
   "source": [
    "def factorial(n): \n",
    "    \"\"\"returns n!\"\"\"\n",
    "    return 1 if n < 2 else n * factorial(n - 1)"
   ]
  },
  {
   "cell_type": "code",
   "execution_count": 11,
   "id": "5a533fca",
   "metadata": {},
   "outputs": [
    {
     "data": {
      "text/plain": [
       "[1, 1, 2, 6, 24, 120]"
      ]
     },
     "execution_count": 11,
     "metadata": {},
     "output_type": "execute_result"
    }
   ],
   "source": [
    "list(map(factorial, range(6))) # map lets us apply function across an iterable "
   ]
  },
  {
   "cell_type": "code",
   "execution_count": 9,
   "id": "8c0970b5",
   "metadata": {},
   "outputs": [
    {
     "data": {
      "text/plain": [
       "[1, 1, 2, 6, 24, 120]"
      ]
     },
     "execution_count": 9,
     "metadata": {},
     "output_type": "execute_result"
    }
   ],
   "source": [
    "[factorial(n) for n in range(6)] # list comp does the same, but is a bit easier to read"
   ]
  },
  {
   "cell_type": "code",
   "execution_count": 12,
   "id": "39397d02",
   "metadata": {},
   "outputs": [
    {
     "data": {
      "text/plain": [
       "[1, 6, 120]"
      ]
     },
     "execution_count": 12,
     "metadata": {},
     "output_type": "execute_result"
    }
   ],
   "source": [
    "# more complex:\n",
    "# pass the factorial function via map to the iterable that comes out of our filter\n",
    "# filter is going to apply an anonymous func to the iterable range(6) -> yielding only items with a remainder of 1 (odd))\n",
    "list(map(factorial, filter(lambda n: n % 2, range(6))))"
   ]
  },
  {
   "cell_type": "code",
   "execution_count": 16,
   "id": "cf1c0598",
   "metadata": {},
   "outputs": [
    {
     "data": {
      "text/plain": [
       "[1, 6, 120]"
      ]
     },
     "execution_count": 16,
     "metadata": {},
     "output_type": "execute_result"
    }
   ],
   "source": [
    "[factorial(n) for n in range(6) if n % 2]  # much cleaner"
   ]
  },
  {
   "cell_type": "markdown",
   "id": "23a8623e",
   "metadata": {},
   "source": [
    "#### We can also use find other ways than reduce\n",
    "\n",
    "Example below shows how reduce was being used to stack each subsequent element to a total. But we can get the same result with sum\n",
    "\n",
    "The idea of each is to apply some operation to successive items in a sequence, accumulating previous results and reducing a sequence of values to a single value. "
   ]
  },
  {
   "cell_type": "code",
   "execution_count": 19,
   "id": "a04645b0",
   "metadata": {},
   "outputs": [
    {
     "data": {
      "text/plain": [
       "4950"
      ]
     },
     "execution_count": 19,
     "metadata": {},
     "output_type": "execute_result"
    }
   ],
   "source": [
    "from functools import reduce \n",
    "from operator import add\n",
    "reduce(add, range(100))"
   ]
  },
  {
   "cell_type": "code",
   "execution_count": 20,
   "id": "d9450fcd",
   "metadata": {},
   "outputs": [
    {
     "data": {
      "text/plain": [
       "4950"
      ]
     },
     "execution_count": 20,
     "metadata": {},
     "output_type": "execute_result"
    }
   ],
   "source": [
    "sum(range(100))"
   ]
  },
  {
   "cell_type": "markdown",
   "id": "5362f5a6",
   "metadata": {},
   "source": [
    "#### Or Leaning on the operator Module\n",
    "\n",
    "Below is an example of solving factorial with function programming instead of using recursion. "
   ]
  },
  {
   "cell_type": "code",
   "execution_count": 21,
   "id": "2ad7dead",
   "metadata": {},
   "outputs": [],
   "source": [
    "from functools import reduce\n",
    "\n",
    "def factorial(n):\n",
    "    return reduce(lambda a, b: a*b, range(1, n+1))"
   ]
  },
  {
   "cell_type": "code",
   "execution_count": 22,
   "id": "207e1f71",
   "metadata": {},
   "outputs": [],
   "source": [
    "from functools import reduce\n",
    "from operator import mul\n",
    "\n",
    "def factorial(n):\n",
    "    return reduce(mul, range(1, n+1)) # yields same output as above "
   ]
  },
  {
   "cell_type": "markdown",
   "id": "31afa9d3",
   "metadata": {},
   "source": [
    "Another cool trick - we can sort a list of tuples by a specific element of the tuple"
   ]
  },
  {
   "cell_type": "code",
   "execution_count": 24,
   "id": "86feb334",
   "metadata": {},
   "outputs": [
    {
     "name": "stdout",
     "output_type": "stream",
     "text": [
      "('São Paulo', 'BR', 19.649, (-23.547778, -46.635833))\n",
      "('Delhi NCR', 'IN', 21.935, (28.613889, 77.208889))\n",
      "('Tokyo', 'JP', 36.933, (35.689722, 139.691667))\n",
      "('Mexico City', 'MX', 20.142, (19.433333, -99.133333))\n",
      "('New York-Newark', 'US', 20.104, (40.808611, -74.020386))\n"
     ]
    }
   ],
   "source": [
    ">>> metro_data = [\n",
    "...     ('Tokyo', 'JP', 36.933, (35.689722, 139.691667)),\n",
    "...     ('Delhi NCR', 'IN', 21.935, (28.613889, 77.208889)),\n",
    "...     ('Mexico City', 'MX', 20.142, (19.433333, -99.133333)),\n",
    "...     ('New York-Newark', 'US', 20.104, (40.808611, -74.020386)),\n",
    "...     ('São Paulo', 'BR', 19.649, (-23.547778, -46.635833)),\n",
    "... ]\n",
    ">>>\n",
    ">>> from operator import itemgetter\n",
    ">>> for city in sorted(metro_data, key=itemgetter(1)): # sort by the second element\n",
    "...     print(city)"
   ]
  },
  {
   "cell_type": "markdown",
   "id": "8e43614b",
   "metadata": {},
   "source": [
    "### functools.partial\n",
    "\n",
    "given a callable, produce a new callable with some of the arguments of the original callable bound to pre-determined values. "
   ]
  },
  {
   "cell_type": "code",
   "execution_count": 31,
   "id": "55677d84",
   "metadata": {},
   "outputs": [],
   "source": [
    ">>> from operator import mul\n",
    ">>> from functools import partial\n",
    ">>> triple = partial(mul, 3) # bind first positional argument to 3..."
   ]
  },
  {
   "cell_type": "code",
   "execution_count": 32,
   "id": "3c33627f",
   "metadata": {},
   "outputs": [
    {
     "data": {
      "text/plain": [
       "21"
      ]
     },
     "execution_count": 32,
     "metadata": {},
     "output_type": "execute_result"
    }
   ],
   "source": [
    "triple(7)"
   ]
  },
  {
   "cell_type": "code",
   "execution_count": 33,
   "id": "94064328",
   "metadata": {},
   "outputs": [
    {
     "data": {
      "text/plain": [
       "[3, 6, 9, 12, 15, 18, 21, 24, 27]"
      ]
     },
     "execution_count": 33,
     "metadata": {},
     "output_type": "execute_result"
    }
   ],
   "source": [
    "list(map(triple, range(1, 10)))"
   ]
  }
 ],
 "metadata": {
  "kernelspec": {
   "display_name": "Python 3 (ipykernel)",
   "language": "python",
   "name": "python3"
  },
  "language_info": {
   "codemirror_mode": {
    "name": "ipython",
    "version": 3
   },
   "file_extension": ".py",
   "mimetype": "text/x-python",
   "name": "python",
   "nbconvert_exporter": "python",
   "pygments_lexer": "ipython3",
   "version": "3.9.6"
  }
 },
 "nbformat": 4,
 "nbformat_minor": 5
}
