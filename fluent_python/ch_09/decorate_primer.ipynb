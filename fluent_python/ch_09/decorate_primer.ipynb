{
 "cells": [
  {
   "cell_type": "markdown",
   "id": "0ddc0a7b",
   "metadata": {},
   "source": [
    "### Decorators\n",
    "\n",
    "Good resource for the basics: https://realpython.com/primer-on-python-decorators/\n",
    "\n",
    "The purpose of these: Wrap a function, modifying the behavior of said function. Basic example below:"
   ]
  },
  {
   "cell_type": "code",
   "execution_count": 1,
   "id": "f89f70a4",
   "metadata": {},
   "outputs": [
    {
     "name": "stdout",
     "output_type": "stream",
     "text": [
      "<function my_decorator.<locals>.wrapper at 0x1029c8430>\n"
     ]
    }
   ],
   "source": [
    "# without decorators:\n",
    "def my_decorator(func):\n",
    "    def wrapper():\n",
    "        print(\"Something is happening before the function is called.\")\n",
    "        func()\n",
    "        print(\"Something is happening after the function is called.\")\n",
    "    return wrapper\n",
    "\n",
    "def say_whee():\n",
    "    print(\"Whee!\")\n",
    "\n",
    "# decoration \n",
    "say_whee = my_decorator(say_whee)\n",
    "\n",
    "# say_whee -> this is just going to be a reference to \"wrapper\"\n",
    "print(say_whee) # local var in my_decorator"
   ]
  },
  {
   "cell_type": "code",
   "execution_count": 2,
   "id": "52f40360",
   "metadata": {},
   "outputs": [
    {
     "name": "stdout",
     "output_type": "stream",
     "text": [
      "The hour is: 16\n",
      "rep: <function not_during_the_night.<locals>.wrapper at 0x1029c8430>\n",
      "Whee!\n"
     ]
    }
   ],
   "source": [
    "# Maybe a more relevant example without decorator\n",
    "# We can add logic to limit when our function will actually be evaluated\n",
    "from datetime import datetime\n",
    "\n",
    "def not_during_the_night(func):\n",
    "    def wrapper():\n",
    "        if 7 <= datetime.now().hour < 22:\n",
    "            func()\n",
    "        else:\n",
    "            pass  # Hush, the neighbors are asleep\n",
    "    return wrapper\n",
    "\n",
    "def say_whee():\n",
    "    print(\"Whee!\")\n",
    "\n",
    "# decoration changes behavior of say_whee, reducing time it can run\n",
    "say_whee = not_during_the_night(say_whee)\n",
    "\n",
    "print(f\"The hour is: {datetime.now().hour}\")\n",
    "print(f\"rep: {say_whee}\")\n",
    "\n",
    "say_whee()"
   ]
  },
  {
   "cell_type": "markdown",
   "id": "ff453441",
   "metadata": {},
   "source": [
    "### Syntactic Sugar: The above example is clunky\n",
    "\n",
    "Why? We have to call `say_whee` 3 separate times. Instead we can lean on the `@` syntax and solve the same problem as above. "
   ]
  },
  {
   "cell_type": "code",
   "execution_count": 3,
   "id": "fd4bc1b5",
   "metadata": {},
   "outputs": [
    {
     "name": "stdout",
     "output_type": "stream",
     "text": [
      "The hour is: 16\n",
      "rep: <function not_during_the_night.<locals>.wrapper at 0x102a01040>\n",
      "Whee!\n"
     ]
    }
   ],
   "source": [
    "@not_during_the_night\n",
    "def say_whee():\n",
    "    print(\"Whee!\")\n",
    "    \n",
    "print(f\"The hour is: {datetime.now().hour}\")\n",
    "print(f\"rep: {say_whee}\")\n",
    "\n",
    "say_whee()"
   ]
  },
  {
   "cell_type": "markdown",
   "id": "10539b63",
   "metadata": {},
   "source": [
    "### Some More Examples:\n",
    "\n",
    "#### Run a function twice"
   ]
  },
  {
   "cell_type": "code",
   "execution_count": 4,
   "id": "656658c9",
   "metadata": {},
   "outputs": [
    {
     "name": "stdout",
     "output_type": "stream",
     "text": [
      "rep: <function do_twice.<locals>.wrapper_do_twice at 0x102a01280>\n",
      "Whee!\n",
      "Whee!\n"
     ]
    }
   ],
   "source": [
    "def do_twice(func):\n",
    "    \"\"\"Decorate that will run inner function twice\"\"\"\n",
    "    def wrapper_do_twice():\n",
    "        func()\n",
    "        func()\n",
    "    return wrapper_do_twice\n",
    "\n",
    "@do_twice\n",
    "def say_whee():\n",
    "    print(\"Whee!\")\n",
    "    \n",
    "# Now we will see our function run twice:\n",
    "print(f\"rep: {say_whee}\")\n",
    "say_whee()"
   ]
  },
  {
   "cell_type": "markdown",
   "id": "26d8614f",
   "metadata": {},
   "source": [
    "#### Decorate with Arguments; \n",
    "\n",
    "We need to make a minor shift since our inner function does not currently accept any arguments. \n",
    "\n",
    "We need to use `*args` and `**kwargs`. The function`do_twice` below will not accept any number of arguments and pass them to the function it decorates. "
   ]
  },
  {
   "cell_type": "code",
   "execution_count": 5,
   "id": "96b55929",
   "metadata": {},
   "outputs": [
    {
     "name": "stdout",
     "output_type": "stream",
     "text": [
      "Whee!\n",
      "Whee!\n",
      "Hello Thomas\n",
      "Hello Thomas\n",
      "Hello Thomas, you are 5 weeks old today!\n",
      "Hello Thomas, you are 5 weeks old today!\n"
     ]
    }
   ],
   "source": [
    "def do_twice(func):\n",
    "    \"\"\"Decorate that will run inner function twice with optional arguments\"\"\"\n",
    "    def wrapper_do_twice(*args, **kwargs):\n",
    "        func(*args, **kwargs)\n",
    "        func(*args, **kwargs)\n",
    "    return wrapper_do_twice\n",
    "\n",
    "@do_twice\n",
    "def say_whee():\n",
    "    print(\"Whee!\")\n",
    "    \n",
    "@do_twice\n",
    "def greet(name):\n",
    "    print(f\"Hello {name}\")\n",
    "    \n",
    "@do_twice\n",
    "def greet_age(name, weeks):\n",
    "    print(f\"Hello {name}, you are {weeks} weeks old today!\")\n",
    "    \n",
    "# Now we will see our function run twice:\n",
    "say_whee()\n",
    "\n",
    "# Now we will see our function run twice with arguments\n",
    "greet(\"Thomas\")\n",
    "\n",
    "# Any more arguments!\n",
    "greet_age(\"Thomas\", 5)"
   ]
  },
  {
   "cell_type": "markdown",
   "id": "e4a14331",
   "metadata": {},
   "source": [
    "### Returning Values from A Decorated Function\n",
    "\n",
    "We can't just return a value, see below"
   ]
  },
  {
   "cell_type": "code",
   "execution_count": 6,
   "id": "7e1cc569",
   "metadata": {},
   "outputs": [
    {
     "name": "stdout",
     "output_type": "stream",
     "text": [
      "Creating greeting\n",
      "Creating greeting\n",
      "None\n"
     ]
    }
   ],
   "source": [
    "@do_twice\n",
    "def return_greeting(name):\n",
    "    print(\"Creating greeting\")\n",
    "    return f\"Hi {name}\"\n",
    "\n",
    "hi_adam = return_greeting(\"Adam\")\n",
    "\n",
    "\n",
    "print(hi_adam)\n"
   ]
  },
  {
   "cell_type": "markdown",
   "id": "1e9b3631",
   "metadata": {},
   "source": [
    "What is happening? \n",
    "\n",
    "The decorator is \"eating\" the return value from the function. `wrapper_do_twice` doesn't explicitly return a value, so we need to do add a return in the wrapper function."
   ]
  },
  {
   "cell_type": "code",
   "execution_count": 15,
   "id": "e8c911fc",
   "metadata": {},
   "outputs": [
    {
     "name": "stdout",
     "output_type": "stream",
     "text": [
      "Creating greeting\n",
      "Creating greeting\n",
      "Hi Adam\n"
     ]
    }
   ],
   "source": [
    "def do_twice(func):\n",
    "    \"\"\"Test Doc 1\"\"\"\n",
    "    def wrapper_do_twice(*args, **kwargs):\n",
    "        \"\"\"Test doc 2\"\"\"\n",
    "        func(*args, **kwargs)\n",
    "        return func(*args, **kwargs)\n",
    "    return wrapper_do_twice\n",
    "\n",
    "@do_twice\n",
    "def return_greeting(name):\n",
    "    \"\"\"Return greeting\"\"\"\n",
    "    print(\"Creating greeting\")\n",
    "    return f\"Hi {name}\"\n",
    "\n",
    "hi_adam = return_greeting(\"Adam\")\n",
    "\n",
    "\n",
    "print(hi_adam)\n"
   ]
  },
  {
   "cell_type": "markdown",
   "id": "346112a2",
   "metadata": {},
   "source": [
    "### Adding a Clearer Name\n",
    "\n",
    "Right now the introspection shows a confusing output"
   ]
  },
  {
   "cell_type": "code",
   "execution_count": 17,
   "id": "d7ebaaeb",
   "metadata": {},
   "outputs": [
    {
     "name": "stdout",
     "output_type": "stream",
     "text": [
      "<function do_twice.<locals>.wrapper_do_twice at 0x1077a3e50>\n",
      "wrapper_do_twice\n",
      "Test doc 2\n"
     ]
    }
   ],
   "source": [
    "print(return_greeting) # says it is the \"wrapper_do_twice\" function inside of \"function_do_twice\"\n",
    "print(return_greeting.__name__)\n",
    "print(return_greeting.__doc__) # returns the doc for the wrong function!"
   ]
  },
  {
   "cell_type": "code",
   "execution_count": 18,
   "id": "6d5b03f1",
   "metadata": {},
   "outputs": [
    {
     "name": "stdout",
     "output_type": "stream",
     "text": [
      "<function return_greeting at 0x1077a3d30>\n",
      "return_greeting\n",
      "Return greeting\n"
     ]
    }
   ],
   "source": [
    "# let's fix this \n",
    "import functools\n",
    "\n",
    "# we can use the functools.wraps decorate, which will preserve information about the original function\n",
    "def do_twice(func):\n",
    "    @functools.wraps(func)\n",
    "    def wrapper_do_twice(*args, **kwargs):\n",
    "        func(*args, **kwargs)\n",
    "        return func(*args, **kwargs)\n",
    "    return wrapper_do_twice\n",
    "\n",
    "@do_twice\n",
    "def return_greeting(name):\n",
    "    \"\"\"Return greeting\"\"\"\n",
    "    print(\"Creating greeting\")\n",
    "    return f\"Hi {name}\"\n",
    "\n",
    "print(return_greeting) # properly captures \"return_greeting\"\n",
    "print(return_greeting.__name__)\n",
    "print(return_greeting.__doc__) # returns the doc for \"return greeting\""
   ]
  },
  {
   "cell_type": "markdown",
   "id": "8f44e1d7",
   "metadata": {},
   "source": [
    "### Cool Real World Examples\n",
    "\n",
    "#### Timing functions\n",
    "\n",
    "This is pretty nice - we can measure the time a function takes to execute instead of just adding start / end code\n"
   ]
  },
  {
   "cell_type": "code",
   "execution_count": 19,
   "id": "027f9be0",
   "metadata": {},
   "outputs": [],
   "source": [
    "import functools\n",
    "import time\n",
    "\n",
    "def timer(func):\n",
    "    \"\"\"Print the runtime of the decorated function\"\"\"\n",
    "    @functools.wraps(func)\n",
    "    def wrapper_timer(*args, **kwargs):\n",
    "        start_time = time.perf_counter()    # 1: Start time prior to function run\n",
    "        value = func(*args, **kwargs)\n",
    "        end_time = time.perf_counter()      # 2: End time after function run\n",
    "        run_time = end_time - start_time    # 3: Determine diff\n",
    "        print(f\"Finished {func.__name__!r} in {run_time:.4f} secs\") # 4: Print total time for specific function to run\n",
    "        return value # 5: Make sure we return the value \n",
    "    return wrapper_timer\n",
    "\n",
    "@timer\n",
    "def waste_some_time(num_times):\n",
    "    for _ in range(num_times):\n",
    "        sum([i**2 for i in range(10000)])"
   ]
  },
  {
   "cell_type": "code",
   "execution_count": 20,
   "id": "85c07282",
   "metadata": {},
   "outputs": [
    {
     "name": "stdout",
     "output_type": "stream",
     "text": [
      "Finished 'waste_some_time' in 0.0049 secs\n"
     ]
    }
   ],
   "source": [
    "waste_some_time(1)"
   ]
  },
  {
   "cell_type": "code",
   "execution_count": 21,
   "id": "27eb5633",
   "metadata": {},
   "outputs": [
    {
     "name": "stdout",
     "output_type": "stream",
     "text": [
      "Finished 'waste_some_time' in 2.0878 secs\n"
     ]
    }
   ],
   "source": [
    "waste_some_time(999)"
   ]
  },
  {
   "cell_type": "markdown",
   "id": "e2d42f70",
   "metadata": {},
   "source": [
    "#### Debugger"
   ]
  },
  {
   "cell_type": "code",
   "execution_count": 28,
   "id": "219266c5",
   "metadata": {},
   "outputs": [],
   "source": [
    "def debug(func):\n",
    "    \"\"\"Print the function signature and return value\"\"\"\n",
    "    @functools.wraps(func)\n",
    "    def wrapper_debug(*args, **kwargs):\n",
    "        args_repr = [repr(a) for a in args]                      # 1: create a list of arguments (we use repr to get string rep)\n",
    "        kwargs_repr = [f\"{k}={v!r}\" for k, v in kwargs.items()]  # 2: generate list of keyword args\n",
    "        signature = \", \".join(args_repr + kwargs_repr)           # 3: Generate a single list of args & kwargs\n",
    "        print(f\"Calling {func.__name__}({signature})\")           # 4: Print the func name and list of args/kwargs\n",
    "        value = func(*args, **kwargs)\n",
    "        print(f\"{func.__name__!r} returned {value!r}\")           # 5: print return value \n",
    "        return value # 6: the real return\n",
    "    return wrapper_debug"
   ]
  },
  {
   "cell_type": "code",
   "execution_count": 29,
   "id": "7c01ad48",
   "metadata": {},
   "outputs": [],
   "source": [
    "import math\n",
    "\n",
    "# Apply a decorator to track recursive func of math.factorial\n",
    "@debug\n",
    "def get_factorial_recursively(n):\n",
    "    if n <= 1:\n",
    "        return 1\n",
    "    else:\n",
    "        return n * get_factorial_recursively(n-1)"
   ]
  },
  {
   "cell_type": "code",
   "execution_count": 30,
   "id": "93fd1e98",
   "metadata": {},
   "outputs": [
    {
     "name": "stdout",
     "output_type": "stream",
     "text": [
      "Calling get_factorial_recursively(5)\n",
      "Calling get_factorial_recursively(4)\n",
      "Calling get_factorial_recursively(3)\n",
      "Calling get_factorial_recursively(2)\n",
      "Calling get_factorial_recursively(1)\n",
      "'get_factorial_recursively' returned 1\n",
      "'get_factorial_recursively' returned 2\n",
      "'get_factorial_recursively' returned 6\n",
      "'get_factorial_recursively' returned 24\n",
      "'get_factorial_recursively' returned 120\n",
      "Calling factorial(5)\n",
      "'factorial' returned 120\n"
     ]
    }
   ],
   "source": [
    "output = get_factorial_recursively(5)\n",
    "assert(output == math.factorial(5))"
   ]
  },
  {
   "cell_type": "code",
   "execution_count": null,
   "id": "978e77b9",
   "metadata": {},
   "outputs": [],
   "source": []
  }
 ],
 "metadata": {
  "kernelspec": {
   "display_name": "fluent",
   "language": "python",
   "name": "fluent"
  },
  "language_info": {
   "codemirror_mode": {
    "name": "ipython",
    "version": 3
   },
   "file_extension": ".py",
   "mimetype": "text/x-python",
   "name": "python",
   "nbconvert_exporter": "python",
   "pygments_lexer": "ipython3",
   "version": "3.9.6"
  }
 },
 "nbformat": 4,
 "nbformat_minor": 5
}
