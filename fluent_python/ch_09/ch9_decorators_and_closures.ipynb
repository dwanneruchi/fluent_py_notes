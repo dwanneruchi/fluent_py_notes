{
 "cells": [
  {
   "cell_type": "markdown",
   "id": "7a5ec215",
   "metadata": {},
   "source": [
    "### Basic Reminder: Covered More Heavily in Other Notebook\n",
    "\n",
    "1) `deco` returns its `inner` function object\n",
    "\n",
    "2) target is decorated by deco\n",
    "\n",
    "3) Invoking `target` actually executes `inner`\n",
    "\n",
    "4) `target` is just a reference to `inner` now"
   ]
  },
  {
   "cell_type": "code",
   "execution_count": 2,
   "id": "9b5a67b2",
   "metadata": {},
   "outputs": [
    {
     "name": "stdout",
     "output_type": "stream",
     "text": [
      "running inner()\n",
      "None\n",
      "<function deco.<locals>.inner at 0x102ffbaf0>\n"
     ]
    }
   ],
   "source": [
    ">>> def deco(func):\n",
    "...     def inner():\n",
    "...         print('running inner()')\n",
    "...     return inner  # 1\n",
    "...\n",
    ">>> @deco\n",
    "... def target():  #2\n",
    "...     print('running target()')\n",
    "...\n",
    ">>> print(target())  #3\n",
    "\n",
    ">>> print(target)  #4"
   ]
  },
  {
   "cell_type": "markdown",
   "id": "68210588",
   "metadata": {},
   "source": [
    "### When Does Python Execute Decorators? \n",
    "\n",
    "- `register` runs twice before any other function. \n",
    "- The main point: function decorators are executed as soon as the module is imported, but the decorated functions only run when invoked. "
   ]
  },
  {
   "cell_type": "code",
   "execution_count": 10,
   "id": "7b74a9d4",
   "metadata": {},
   "outputs": [
    {
     "name": "stdout",
     "output_type": "stream",
     "text": [
      "running register(<function f1 at 0x102ffb0d0>)\n",
      "running register(<function f2 at 0x102ffb430>)\n"
     ]
    }
   ],
   "source": [
    "registry = []  \n",
    "\n",
    "def register(func):  \n",
    "    print(f'running register({func})')  # display what function is being decorated\n",
    "    registry.append(func) # hold reference to functions decorated\n",
    "    return func  \n",
    "\n",
    "@register  \n",
    "def f1():\n",
    "    print('running f1()')\n",
    "\n",
    "@register\n",
    "def f2():\n",
    "    print('running f2()')\n",
    "\n",
    "def f3():  \n",
    "    print('running f3()')\n",
    "\n",
    "def main():\n",
    "    print('running main()')\n",
    "    print('registry ->', registry)\n",
    "    f1()\n",
    "    f2()\n",
    "    f3() # not decorated"
   ]
  },
  {
   "cell_type": "code",
   "execution_count": 11,
   "id": "c0d7bb8b",
   "metadata": {},
   "outputs": [
    {
     "name": "stdout",
     "output_type": "stream",
     "text": [
      "running main()\n",
      "registry -> [<function f1 at 0x102ffb0d0>, <function f2 at 0x102ffb430>]\n",
      "running f1()\n",
      "running f2()\n",
      "running f3()\n",
      "[<function f1 at 0x102ffb0d0>, <function f2 at 0x102ffb430>]\n"
     ]
    }
   ],
   "source": [
    "main()\n",
    "print(registry)"
   ]
  },
  {
   "cell_type": "markdown",
   "id": "bedbff6d",
   "metadata": {},
   "source": [
    "### Variable Scoping"
   ]
  },
  {
   "cell_type": "code",
   "execution_count": 12,
   "id": "23613b9a",
   "metadata": {},
   "outputs": [
    {
     "name": "stdout",
     "output_type": "stream",
     "text": [
      "3\n"
     ]
    },
    {
     "ename": "NameError",
     "evalue": "name 'b' is not defined",
     "output_type": "error",
     "traceback": [
      "\u001b[0;31m---------------------------------------------------------------------------\u001b[0m",
      "\u001b[0;31mNameError\u001b[0m                                 Traceback (most recent call last)",
      "\u001b[0;32m/var/folders/mk/5nqd3xjx50q0c83t841l9hsw0000gn/T/ipykernel_3275/2523638678.py\u001b[0m in \u001b[0;36m<module>\u001b[0;34m\u001b[0m\n\u001b[1;32m      2\u001b[0m     \u001b[0mprint\u001b[0m\u001b[0;34m(\u001b[0m\u001b[0ma\u001b[0m\u001b[0;34m)\u001b[0m\u001b[0;34m\u001b[0m\u001b[0;34m\u001b[0m\u001b[0m\n\u001b[1;32m      3\u001b[0m     \u001b[0mprint\u001b[0m\u001b[0;34m(\u001b[0m\u001b[0mb\u001b[0m\u001b[0;34m)\u001b[0m \u001b[0;31m# this should error since we don't have a `b` anywhere\u001b[0m\u001b[0;34m\u001b[0m\u001b[0;34m\u001b[0m\u001b[0m\n\u001b[0;32m----> 4\u001b[0;31m \u001b[0mf1\u001b[0m\u001b[0;34m(\u001b[0m\u001b[0;36m3\u001b[0m\u001b[0;34m)\u001b[0m\u001b[0;34m\u001b[0m\u001b[0;34m\u001b[0m\u001b[0m\n\u001b[0m",
      "\u001b[0;32m/var/folders/mk/5nqd3xjx50q0c83t841l9hsw0000gn/T/ipykernel_3275/2523638678.py\u001b[0m in \u001b[0;36mf1\u001b[0;34m(a)\u001b[0m\n\u001b[1;32m      1\u001b[0m \u001b[0;32mdef\u001b[0m \u001b[0mf1\u001b[0m\u001b[0;34m(\u001b[0m\u001b[0ma\u001b[0m\u001b[0;34m)\u001b[0m\u001b[0;34m:\u001b[0m\u001b[0;34m\u001b[0m\u001b[0;34m\u001b[0m\u001b[0m\n\u001b[1;32m      2\u001b[0m     \u001b[0mprint\u001b[0m\u001b[0;34m(\u001b[0m\u001b[0ma\u001b[0m\u001b[0;34m)\u001b[0m\u001b[0;34m\u001b[0m\u001b[0;34m\u001b[0m\u001b[0m\n\u001b[0;32m----> 3\u001b[0;31m     \u001b[0mprint\u001b[0m\u001b[0;34m(\u001b[0m\u001b[0mb\u001b[0m\u001b[0;34m)\u001b[0m \u001b[0;31m# this should error since we don't have a `b` anywhere\u001b[0m\u001b[0;34m\u001b[0m\u001b[0;34m\u001b[0m\u001b[0m\n\u001b[0m\u001b[1;32m      4\u001b[0m \u001b[0mf1\u001b[0m\u001b[0;34m(\u001b[0m\u001b[0;36m3\u001b[0m\u001b[0;34m)\u001b[0m\u001b[0;34m\u001b[0m\u001b[0;34m\u001b[0m\u001b[0m\n",
      "\u001b[0;31mNameError\u001b[0m: name 'b' is not defined"
     ]
    }
   ],
   "source": [
    "def f1(a):\n",
    "    print(a)\n",
    "    print(b) # this should error since we don't have a `b` anywhere\n",
    "f1(3)"
   ]
  },
  {
   "cell_type": "code",
   "execution_count": 13,
   "id": "1b84778a",
   "metadata": {},
   "outputs": [
    {
     "name": "stdout",
     "output_type": "stream",
     "text": [
      "3\n",
      "6\n"
     ]
    }
   ],
   "source": [
    "# now we define a global var b:\n",
    "b = 6\n",
    "f1(3)"
   ]
  },
  {
   "cell_type": "code",
   "execution_count": 17,
   "id": "6b33101b",
   "metadata": {},
   "outputs": [
    {
     "name": "stdout",
     "output_type": "stream",
     "text": [
      "3\n"
     ]
    },
    {
     "ename": "UnboundLocalError",
     "evalue": "local variable 'b' referenced before assignment",
     "output_type": "error",
     "traceback": [
      "\u001b[0;31m---------------------------------------------------------------------------\u001b[0m",
      "\u001b[0;31mUnboundLocalError\u001b[0m                         Traceback (most recent call last)",
      "\u001b[0;32m/var/folders/mk/5nqd3xjx50q0c83t841l9hsw0000gn/T/ipykernel_3275/2365694457.py\u001b[0m in \u001b[0;36m<module>\u001b[0;34m\u001b[0m\n\u001b[1;32m      6\u001b[0m     \u001b[0mb\u001b[0m \u001b[0;34m=\u001b[0m \u001b[0;36m9\u001b[0m\u001b[0;34m\u001b[0m\u001b[0;34m\u001b[0m\u001b[0m\n\u001b[1;32m      7\u001b[0m \u001b[0;34m\u001b[0m\u001b[0m\n\u001b[0;32m----> 8\u001b[0;31m \u001b[0mf2\u001b[0m\u001b[0;34m(\u001b[0m\u001b[0;36m3\u001b[0m\u001b[0;34m)\u001b[0m\u001b[0;34m\u001b[0m\u001b[0;34m\u001b[0m\u001b[0m\n\u001b[0m",
      "\u001b[0;32m/var/folders/mk/5nqd3xjx50q0c83t841l9hsw0000gn/T/ipykernel_3275/2365694457.py\u001b[0m in \u001b[0;36mf2\u001b[0;34m(a)\u001b[0m\n\u001b[1;32m      3\u001b[0m \u001b[0;32mdef\u001b[0m \u001b[0mf2\u001b[0m\u001b[0;34m(\u001b[0m\u001b[0ma\u001b[0m\u001b[0;34m)\u001b[0m\u001b[0;34m:\u001b[0m\u001b[0;34m\u001b[0m\u001b[0;34m\u001b[0m\u001b[0m\n\u001b[1;32m      4\u001b[0m     \u001b[0mprint\u001b[0m\u001b[0;34m(\u001b[0m\u001b[0ma\u001b[0m\u001b[0;34m)\u001b[0m\u001b[0;34m\u001b[0m\u001b[0;34m\u001b[0m\u001b[0m\n\u001b[0;32m----> 5\u001b[0;31m     \u001b[0mprint\u001b[0m\u001b[0;34m(\u001b[0m\u001b[0mb\u001b[0m\u001b[0;34m)\u001b[0m\u001b[0;34m\u001b[0m\u001b[0;34m\u001b[0m\u001b[0m\n\u001b[0m\u001b[1;32m      6\u001b[0m     \u001b[0mb\u001b[0m \u001b[0;34m=\u001b[0m \u001b[0;36m9\u001b[0m\u001b[0;34m\u001b[0m\u001b[0;34m\u001b[0m\u001b[0m\n\u001b[1;32m      7\u001b[0m \u001b[0;34m\u001b[0m\u001b[0m\n",
      "\u001b[0;31mUnboundLocalError\u001b[0m: local variable 'b' referenced before assignment"
     ]
    }
   ],
   "source": [
    "# now a whacky example: \n",
    "b = 6\n",
    "def f2(a):\n",
    "    print(a)\n",
    "    print(b)\n",
    "    b = 9\n",
    "\n",
    "f2(3)"
   ]
  },
  {
   "cell_type": "code",
   "execution_count": 19,
   "id": "c3ffb6a9",
   "metadata": {},
   "outputs": [
    {
     "name": "stdout",
     "output_type": "stream",
     "text": [
      "  4           0 LOAD_GLOBAL              0 (print)\n",
      "              2 LOAD_FAST                0 (a)\n",
      "              4 CALL_FUNCTION            1\n",
      "              6 POP_TOP\n",
      "\n",
      "  5           8 LOAD_GLOBAL              0 (print)\n",
      "             10 LOAD_FAST                1 (b)\n",
      "             12 CALL_FUNCTION            1\n",
      "             14 POP_TOP\n",
      "\n",
      "  6          16 LOAD_CONST               1 (9)\n",
      "             18 STORE_FAST               1 (b)\n",
      "             20 LOAD_CONST               0 (None)\n",
      "             22 RETURN_VALUE\n"
     ]
    }
   ],
   "source": [
    "from dis import dis\n",
    "\n",
    "dis(f2) # Load fast means it is looking for local -> this is where we run into our issue"
   ]
  },
  {
   "cell_type": "code",
   "execution_count": 20,
   "id": "1302f220",
   "metadata": {},
   "outputs": [
    {
     "name": "stdout",
     "output_type": "stream",
     "text": [
      "  2           0 LOAD_GLOBAL              0 (print)\n",
      "              2 LOAD_FAST                0 (a)\n",
      "              4 CALL_FUNCTION            1\n",
      "              6 POP_TOP\n",
      "\n",
      "  3           8 LOAD_GLOBAL              0 (print)\n",
      "             10 LOAD_GLOBAL              1 (b)\n",
      "             12 CALL_FUNCTION            1\n",
      "             14 POP_TOP\n",
      "             16 LOAD_CONST               0 (None)\n",
      "             18 RETURN_VALUE\n"
     ]
    }
   ],
   "source": [
    "dis(f1) # We actually had LOAD GLOBAL for variable b, which is why it does not error "
   ]
  },
  {
   "cell_type": "markdown",
   "id": "3555a5d2",
   "metadata": {},
   "source": [
    "#### What Is Happening Here?\n",
    "\n",
    "Python seees a reference to the `b` in the function and assigns it as a local variable, which is tries to fetch from local scope. \n",
    "\n",
    "It finds that `b` is unbound. "
   ]
  },
  {
   "cell_type": "code",
   "execution_count": 16,
   "id": "8e22df44",
   "metadata": {},
   "outputs": [
    {
     "name": "stdout",
     "output_type": "stream",
     "text": [
      "3\n",
      "6\n",
      "9\n"
     ]
    }
   ],
   "source": [
    "# now a different approach \n",
    "b = 6\n",
    "\n",
    "def f3(a):\n",
    "    global b # we have now stated there is a global b that we can use? I think? \n",
    "    print(a)\n",
    "    print(b)\n",
    "    b = 9\n",
    "    \n",
    "f3(3) # we will yield the 6\n",
    "\n",
    "# but b is now a 9...\n",
    "print(b)"
   ]
  },
  {
   "cell_type": "markdown",
   "id": "9c2b536c",
   "metadata": {},
   "source": [
    "### Onto Closures\n",
    "\n",
    "This is a pretty interesting topic which begins with an example of having an object to hold the on-going average of a series. \n",
    "\n",
    "\n",
    "#### Using OOP\n",
    "\n",
    "Pretty obvious what is happening here. "
   ]
  },
  {
   "cell_type": "code",
   "execution_count": 4,
   "id": "97f2145a",
   "metadata": {},
   "outputs": [],
   "source": [
    "class Averager():\n",
    "\n",
    "    def __init__(self):\n",
    "        self.series = [] # attribute to store off series \n",
    "\n",
    "    def __call__(self, new_value):\n",
    "        self.series.append(new_value) # add to series list \n",
    "        total = sum(self.series) # find sum (not stored as attr)\n",
    "        return total / len(self.series) # return avg (sum / n)"
   ]
  },
  {
   "cell_type": "code",
   "execution_count": 5,
   "id": "9cbe313c",
   "metadata": {},
   "outputs": [
    {
     "name": "stdout",
     "output_type": "stream",
     "text": [
      "10.0\n",
      "10.5\n",
      "11.0\n"
     ]
    }
   ],
   "source": [
    "avg = Averager()\n",
    "\n",
    "print(avg(10))\n",
    "print(avg(11))\n",
    "print(avg(12))"
   ]
  },
  {
   "cell_type": "markdown",
   "id": "658d3a63",
   "metadata": {},
   "source": [
    "#### Higher-order function \n",
    "\n",
    "We now have a function object defined within `make_averager`. "
   ]
  },
  {
   "cell_type": "code",
   "execution_count": 6,
   "id": "4747c7da",
   "metadata": {},
   "outputs": [
    {
     "name": "stdout",
     "output_type": "stream",
     "text": [
      "10.0\n",
      "10.5\n",
      "11.0\n"
     ]
    }
   ],
   "source": [
    "def make_averager():\n",
    "    series = [] # stores a list, local to \"make_averager\"\n",
    "\n",
    "    def averager(new_value):\n",
    "        series.append(new_value) # references \"free variable\" \"series\"\n",
    "        total = sum(series)\n",
    "        return total / len(series)\n",
    "\n",
    "    return averager\n",
    "\n",
    "\n",
    "avg = make_averager()\n",
    "\n",
    "print(avg(10))\n",
    "print(avg(11))\n",
    "print(avg(12))"
   ]
  },
  {
   "cell_type": "code",
   "execution_count": 8,
   "id": "2ecf304a",
   "metadata": {},
   "outputs": [
    {
     "name": "stdout",
     "output_type": "stream",
     "text": [
      "('new_value', 'total')\n",
      "('series',)\n",
      "(<cell at 0x10820f070: list object at 0x108f05580>,)\n",
      "[10, 11, 12]\n"
     ]
    }
   ],
   "source": [
    "# interestingly, this function has variables and free variables\n",
    "print(avg.__code__.co_varnames) # variables in func\n",
    "print(avg.__code__.co_freevars) # free variable\n",
    "\n",
    "# we can even look at the closure itself\n",
    "print(avg.__closure__)\n",
    "\n",
    "# and get values\n",
    "print(avg.__closure__[0].cell_contents)"
   ]
  },
  {
   "cell_type": "markdown",
   "id": "15ce0f9a",
   "metadata": {},
   "source": [
    "### So, What Is A Closure? \n",
    "\n",
    "Really just functions with data attached. It is a function that references variables from a containing scope, like an inner function referencing variables declared only in an outer function.\n",
    "\n",
    "- \"A function that can refer to environments that are no longer active. A closure allows you to bind variables into a function without passing them as parameters\"\n",
    "\n",
    "### Nonlocal\n",
    "\n",
    "The previous function was inefficient from a memory perspective as it required us to keep track of a large, memory intensive list object. \n",
    "\n",
    "Instead, we should just keep tabs on:\n",
    "- a running `total` (the sum) \n",
    "- a `count` of items (just distinct count) \n",
    "\n",
    "But this yields an issue, shown below: \n",
    "- When we use the `var += 1` syntax, it is really `var = var + 1`\n",
    "- This means we assign to `var` in the body of the function, which makes it a local variable...so we run into errors. "
   ]
  },
  {
   "cell_type": "code",
   "execution_count": 10,
   "id": "61cf0550",
   "metadata": {},
   "outputs": [
    {
     "ename": "UnboundLocalError",
     "evalue": "local variable 'count' referenced before assignment",
     "output_type": "error",
     "traceback": [
      "\u001b[0;31m---------------------------------------------------------------------------\u001b[0m",
      "\u001b[0;31mUnboundLocalError\u001b[0m                         Traceback (most recent call last)",
      "\u001b[0;32m/var/folders/mk/5nqd3xjx50q0c83t841l9hsw0000gn/T/ipykernel_11745/2253101653.py\u001b[0m in \u001b[0;36m<module>\u001b[0;34m\u001b[0m\n\u001b[1;32m     13\u001b[0m \u001b[0;31m# try it out\u001b[0m\u001b[0;34m\u001b[0m\u001b[0;34m\u001b[0m\u001b[0;34m\u001b[0m\u001b[0m\n\u001b[1;32m     14\u001b[0m \u001b[0mavg\u001b[0m \u001b[0;34m=\u001b[0m \u001b[0mmake_averager\u001b[0m\u001b[0;34m(\u001b[0m\u001b[0;34m)\u001b[0m\u001b[0;34m\u001b[0m\u001b[0;34m\u001b[0m\u001b[0m\n\u001b[0;32m---> 15\u001b[0;31m \u001b[0mavg\u001b[0m\u001b[0;34m(\u001b[0m\u001b[0;36m10\u001b[0m\u001b[0;34m)\u001b[0m\u001b[0;34m\u001b[0m\u001b[0;34m\u001b[0m\u001b[0m\n\u001b[0m",
      "\u001b[0;32m/var/folders/mk/5nqd3xjx50q0c83t841l9hsw0000gn/T/ipykernel_11745/2253101653.py\u001b[0m in \u001b[0;36maverager\u001b[0;34m(new_value)\u001b[0m\n\u001b[1;32m      4\u001b[0m \u001b[0;34m\u001b[0m\u001b[0m\n\u001b[1;32m      5\u001b[0m     \u001b[0;32mdef\u001b[0m \u001b[0maverager\u001b[0m\u001b[0;34m(\u001b[0m\u001b[0mnew_value\u001b[0m\u001b[0;34m)\u001b[0m\u001b[0;34m:\u001b[0m\u001b[0;34m\u001b[0m\u001b[0;34m\u001b[0m\u001b[0m\n\u001b[0;32m----> 6\u001b[0;31m         \u001b[0mcount\u001b[0m \u001b[0;34m+=\u001b[0m \u001b[0;36m1\u001b[0m \u001b[0;31m# interpreted as count = count + 1\u001b[0m\u001b[0;34m\u001b[0m\u001b[0;34m\u001b[0m\u001b[0m\n\u001b[0m\u001b[1;32m      7\u001b[0m         \u001b[0mtotal\u001b[0m \u001b[0;34m+=\u001b[0m \u001b[0mnew_value\u001b[0m \u001b[0;31m# total = total + 1\u001b[0m\u001b[0;34m\u001b[0m\u001b[0;34m\u001b[0m\u001b[0m\n\u001b[1;32m      8\u001b[0m         \u001b[0;32mreturn\u001b[0m \u001b[0mtotal\u001b[0m \u001b[0;34m/\u001b[0m \u001b[0mcount\u001b[0m\u001b[0;34m\u001b[0m\u001b[0;34m\u001b[0m\u001b[0m\n",
      "\u001b[0;31mUnboundLocalError\u001b[0m: local variable 'count' referenced before assignment"
     ]
    }
   ],
   "source": [
    "def make_averager():\n",
    "    count = 0\n",
    "    total = 0\n",
    "\n",
    "    def averager(new_value):\n",
    "        count += 1 # interpreted as count = count + 1\n",
    "        total += new_value # total = total + 1\n",
    "        return total / count\n",
    "\n",
    "    return averager\n",
    "\n",
    "\n",
    "# try it out\n",
    "avg = make_averager()\n",
    "avg(10)"
   ]
  },
  {
   "cell_type": "markdown",
   "id": "e5e2c535",
   "metadata": {},
   "source": [
    "The solution is to use the `nonlocal` keyword. This will allow us to \"declare a variable as a free variables even when defined within the function\""
   ]
  },
  {
   "cell_type": "code",
   "execution_count": 11,
   "id": "899ad891",
   "metadata": {},
   "outputs": [
    {
     "data": {
      "text/plain": [
       "10.0"
      ]
     },
     "execution_count": 11,
     "metadata": {},
     "output_type": "execute_result"
    }
   ],
   "source": [
    "def make_averager():\n",
    "    count = 0\n",
    "    total = 0\n",
    "\n",
    "    def averager(new_value):\n",
    "        nonlocal count, total\n",
    "        count += 1\n",
    "        total += new_value\n",
    "        return total / count\n",
    "\n",
    "    return averager\n",
    "\n",
    "# try it out\n",
    "avg = make_averager()\n",
    "avg(10)"
   ]
  },
  {
   "cell_type": "markdown",
   "id": "60275df1",
   "metadata": {},
   "source": [
    "### Implementing Simple Decorator: "
   ]
  },
  {
   "cell_type": "code",
   "execution_count": 14,
   "id": "619b8322",
   "metadata": {},
   "outputs": [],
   "source": [
    "import time\n",
    "\n",
    "\n",
    "def clock(func):\n",
    "    def clocked(*args):  #1: Allows for any number of arguments\n",
    "        t0 = time.perf_counter() # start timer\n",
    "        result = func(*args)  #2: Decorated func is a free vars\n",
    "        elapsed = time.perf_counter() - t0 # end timer\n",
    "        name = func.__name__\n",
    "        arg_str = ', '.join(repr(arg) for arg in args)\n",
    "        print(f'[{elapsed:0.8f}s] {name}({arg_str}) -> {result!r}')\n",
    "        return result\n",
    "    return clocked  # return inner func to replace decorated func"
   ]
  },
  {
   "cell_type": "code",
   "execution_count": 16,
   "id": "32ffab45",
   "metadata": {},
   "outputs": [
    {
     "name": "stdout",
     "output_type": "stream",
     "text": [
      "**************************************** Calling snooze(.123)\n",
      "[0.12473192s] snooze(0.123) -> None\n",
      "**************************************** Calling factorial(6)\n",
      "[0.00000121s] factorial(1) -> 1\n",
      "[0.00005358s] factorial(2) -> 2\n",
      "[0.00010129s] factorial(3) -> 6\n",
      "[0.00014783s] factorial(4) -> 24\n",
      "[0.00019467s] factorial(5) -> 120\n",
      "[0.00024604s] factorial(6) -> 720\n",
      "6! = 720\n"
     ]
    }
   ],
   "source": [
    "import time\n",
    "\n",
    "@clock\n",
    "def snooze(seconds):\n",
    "    time.sleep(seconds)\n",
    "\n",
    "@clock\n",
    "def factorial(n):\n",
    "    return 1 if n < 2 else n*factorial(n-1)\n",
    "\n",
    "if __name__ == '__main__':\n",
    "    print('*' * 40, 'Calling snooze(.123)')\n",
    "    snooze(.123)\n",
    "    print('*' * 40, 'Calling factorial(6)')\n",
    "    print('6! =', factorial(6))"
   ]
  },
  {
   "cell_type": "markdown",
   "id": "6c206b50",
   "metadata": {},
   "source": [
    "### memoization \n",
    "\n",
    "Used to speed up computer programs by storing results of expensive function calls and returning \"cached\" result when same inputs occur again.\n",
    "\n",
    "`@cache` works by:\n",
    "- taking hashable arguments and storing results in a dict \n",
    "\n",
    "#### LRI\n",
    "\n",
    "Least Recently Used: Basically, older entries that haven't been read in awhile will be discarded to make room for new ones. \n",
    "- includes a `maxsize` parameter that sets max number of entries. "
   ]
  },
  {
   "cell_type": "code",
   "execution_count": 18,
   "id": "dd562ad0",
   "metadata": {},
   "outputs": [
    {
     "name": "stdout",
     "output_type": "stream",
     "text": [
      "[0.00000058s] fibonacci(0) -> 0\n",
      "[0.00000054s] fibonacci(1) -> 1\n",
      "[0.00006983s] fibonacci(2) -> 1\n",
      "[0.00000033s] fibonacci(1) -> 1\n",
      "[0.00000050s] fibonacci(0) -> 0\n",
      "[0.00000050s] fibonacci(1) -> 1\n",
      "[0.00016354s] fibonacci(2) -> 1\n",
      "[0.00020271s] fibonacci(3) -> 2\n",
      "[0.00030858s] fibonacci(4) -> 3\n",
      "[0.00000033s] fibonacci(1) -> 1\n",
      "[0.00000037s] fibonacci(0) -> 0\n",
      "[0.00000038s] fibonacci(1) -> 1\n",
      "[0.00041483s] fibonacci(2) -> 1\n",
      "[0.00045912s] fibonacci(3) -> 2\n",
      "[0.00000042s] fibonacci(0) -> 0\n",
      "[0.00000058s] fibonacci(1) -> 1\n",
      "[0.00029292s] fibonacci(2) -> 1\n",
      "[0.00000038s] fibonacci(1) -> 1\n",
      "[0.00000037s] fibonacci(0) -> 0\n",
      "[0.00000042s] fibonacci(1) -> 1\n",
      "[0.00003475s] fibonacci(2) -> 1\n",
      "[0.00006921s] fibonacci(3) -> 2\n",
      "[0.00039725s] fibonacci(4) -> 3\n",
      "[0.00089025s] fibonacci(5) -> 5\n",
      "[0.00123413s] fibonacci(6) -> 8\n",
      "8\n"
     ]
    }
   ],
   "source": [
    "# recursion: we will exxecute the same function call multiple times\n",
    "# fib(1) -> 8 times\n",
    "# fib(2) -> 5 times...\n",
    "@clock\n",
    "def fibonacci(n):\n",
    "    if n < 2:\n",
    "        return n\n",
    "    return fibonacci(n - 2) + fibonacci(n - 1)\n",
    "\n",
    "\n",
    "if __name__ == '__main__':\n",
    "    print(fibonacci(6)) "
   ]
  },
  {
   "cell_type": "code",
   "execution_count": 20,
   "id": "bd020e31",
   "metadata": {},
   "outputs": [
    {
     "name": "stdout",
     "output_type": "stream",
     "text": [
      "[0.00000071s] fibonacci(0) -> 0\n",
      "[0.00000050s] fibonacci(1) -> 1\n",
      "[0.00006958s] fibonacci(2) -> 1\n",
      "[0.00000079s] fibonacci(3) -> 2\n",
      "[0.00011325s] fibonacci(4) -> 3\n",
      "[0.00000071s] fibonacci(5) -> 5\n",
      "[0.00048213s] fibonacci(6) -> 8\n",
      "8\n"
     ]
    }
   ],
   "source": [
    "import functools\n",
    "@functools.cache  #1: Add caching decorator\n",
    "@clock  #2: cache is applied on the function returned by clock - stacked decs\n",
    "\n",
    "def fibonacci(n):\n",
    "    if n < 2:\n",
    "        return n\n",
    "    return fibonacci(n - 2) + fibonacci(n - 1)\n",
    "\n",
    "\n",
    "if __name__ == '__main__':\n",
    "    print(fibonacci(6))"
   ]
  },
  {
   "cell_type": "code",
   "execution_count": 30,
   "id": "cf6291c1",
   "metadata": {},
   "outputs": [
    {
     "name": "stdout",
     "output_type": "stream",
     "text": [
      "Recursion - Total time: 20.56\n",
      "Caching - Total time: 0.00\n"
     ]
    }
   ],
   "source": [
    "# more extreme example -> let's remove the printing in clock\n",
    "def fibonacci2(n):\n",
    "    if n < 2:\n",
    "        return n\n",
    "    return fibonacci2(n - 2) + fibonacci2(n - 1)\n",
    "\n",
    "# recursive\n",
    "start = time.perf_counter()\n",
    "fibonacci2(40)\n",
    "end = time.perf_counter()\n",
    "print(f\"Recursion - Total time: {end - start:.2f}\")\n",
    "\n",
    "# using cache\n",
    "@functools.cache\n",
    "def fibonacci3(n):\n",
    "    if n < 2:\n",
    "        return n\n",
    "    return fibonacci3(n - 2) + fibonacci3(n - 1)\n",
    "\n",
    "# recursive\n",
    "start = time.perf_counter()\n",
    "fibonacci3(40)\n",
    "end = time.perf_counter()\n",
    "print(f\"Caching - Total time: {end - start:.2f}\")"
   ]
  },
  {
   "cell_type": "markdown",
   "id": "1e6a79f8",
   "metadata": {},
   "source": [
    "### stacked decorators:\n",
    "\n",
    "```python\n",
    "@alpha\n",
    "@beta\n",
    "def my_fn():\n",
    "    ...\n",
    "```\n",
    "is equal to:\n",
    "\n",
    "```python\n",
    "my_fn = alpha(beta(my_fn))\n",
    "```"
   ]
  },
  {
   "cell_type": "markdown",
   "id": "0c572799",
   "metadata": {},
   "source": [
    "### Parameterized Decorators\n",
    "\n",
    "This gets a bit confusing since Python is going to do this in source:\n",
    "\n",
    "- take decorated function and pass as first argument to decorator function\n",
    "\n",
    "So, how would we get a parameter in? \n",
    "- Make a decorator factory..."
   ]
  },
  {
   "cell_type": "code",
   "execution_count": 31,
   "id": "e84b378e",
   "metadata": {},
   "outputs": [
    {
     "name": "stdout",
     "output_type": "stream",
     "text": [
      "running register(<function f1 at 0x108eeb040>)\n",
      "running main()\n",
      "registry -> [<function f1 at 0x108eeb040>]\n",
      "running f1()\n"
     ]
    }
   ],
   "source": [
    "registry = []\n",
    "\n",
    "def register(func):\n",
    "    print(f'running register({func})')\n",
    "    registry.append(func)\n",
    "    return func\n",
    "\n",
    "@register\n",
    "def f1():\n",
    "    print('running f1()')\n",
    "\n",
    "print('running main()')\n",
    "print('registry ->', registry)\n",
    "f1()"
   ]
  },
  {
   "cell_type": "markdown",
   "id": "cda2b946",
   "metadata": {},
   "source": [
    "Now we update to determine if we want to actually register the decorated function. "
   ]
  },
  {
   "cell_type": "code",
   "execution_count": 33,
   "id": "edc8aa5c",
   "metadata": {},
   "outputs": [
    {
     "name": "stdout",
     "output_type": "stream",
     "text": [
      "running register(active=False)->decorate(<function f1 at 0x108eebee0>)\n",
      "running register(active=True)->decorate(<function f2 at 0x108eeb4c0>)\n",
      "Contents: {<function f2 at 0x108eeb4c0>}\n"
     ]
    }
   ],
   "source": [
    "registry = set()  #1 Adding / Remove fast\n",
    "\n",
    "def register(active=True):  #2 optional keyword argument now\n",
    "    def decorate(func):  #3 This is our decorate\n",
    "        print('running register'\n",
    "              f'(active={active})->decorate({func})')\n",
    "        if active:   # 4 add to registry if active\n",
    "            registry.add(func)\n",
    "        else:\n",
    "            registry.discard(func)  # 5 discard if not active\n",
    "            # and in registry \n",
    "\n",
    "        return func  # 6 -> must return a function\n",
    "    return decorate  # 7 register is decorator factory\n",
    "\n",
    "@register(active=False)  # 8: Won't be added\n",
    "def f1():\n",
    "    print('running f1()')\n",
    "\n",
    "@register()  # 9: Will be added since active\n",
    "def f2():\n",
    "    print('running f2()')\n",
    "\n",
    "def f3():\n",
    "    print('running f3()')\n",
    "    \n",
    "print(f\"Contents: {registry}\")"
   ]
  },
  {
   "cell_type": "code",
   "execution_count": null,
   "id": "2cb1402d",
   "metadata": {},
   "outputs": [],
   "source": []
  }
 ],
 "metadata": {
  "kernelspec": {
   "display_name": "fluent",
   "language": "python",
   "name": "fluent"
  },
  "language_info": {
   "codemirror_mode": {
    "name": "ipython",
    "version": 3
   },
   "file_extension": ".py",
   "mimetype": "text/x-python",
   "name": "python",
   "nbconvert_exporter": "python",
   "pygments_lexer": "ipython3",
   "version": "3.9.6"
  }
 },
 "nbformat": 4,
 "nbformat_minor": 5
}
